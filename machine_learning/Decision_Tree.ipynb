{
 "cells": [
  {
   "cell_type": "code",
   "execution_count": 1,
   "id": "3332d24d-749d-418b-94ed-6fdd634a6256",
   "metadata": {},
   "outputs": [],
   "source": [
    "#의사결정나무(Decision Tree)란?\n",
    "# 예측 모델 중 하나로, 데이터의 특징(feature)을 기준으로 의사결정 규칙을 만들고\n",
    "# 이를 바탕으로 데이터를 분류하거나 회귀하는 데 사용됨\n",
    "# 트리 구조를 가짐 (nod, branch, leaf가 있음)\n",
    "# nod = 데이터의 특정 특징에 대한 테스트\n",
    "# branch = 테스트 결과\n",
    "# leaf = 클래스 테이블\n",
    "\n",
    "#분할 기준\n",
    "# 정보 이득 (Information Gain): 불확실성(Entropy) 값으로 데이터를 나누는 기준.엔트로피가 낮을 수록 불확실 성이 적음.\n",
    "# 지니 계수 (Gini Index): 불순도를 측정하는 방법으로, 지니 계수가 낮을수록 불순도가 적음."
   ]
  },
  {
   "cell_type": "code",
   "execution_count": 2,
   "id": "55b2cf26-9c86-48fc-9829-0eb3523a5c11",
   "metadata": {},
   "outputs": [],
   "source": [
    "import numpy as np\n",
    "import pandas as pd\n",
    "from sklearn.datasets import load_breast_cancer\n",
    "from sklearn.model_selection import train_test_split\n",
    "from sklearn.preprocessing import StandardScaler\n",
    "\n",
    "# 데이터 로드\n",
    "data = load_breast_cancer()\n",
    "X = data.data\n",
    "y = data.target\n",
    "\n",
    "# 데이터 분할\n",
    "X_train, X_test, y_train, y_test = train_test_split(X, y, test_size=0.2, random_state=42)\n",
    "\n",
    "# 데이터 스케일링\n",
    "scaler = StandardScaler()\n",
    "X_train = scaler.fit_transform(X_train)\n",
    "X_test = scaler.transform(X_test)"
   ]
  },
  {
   "cell_type": "code",
   "execution_count": 3,
   "id": "2b56c91f-4136-457b-93e5-a054d21fdfee",
   "metadata": {},
   "outputs": [
    {
     "name": "stdout",
     "output_type": "stream",
     "text": [
      "Accuracy: 0.9473684210526315\n",
      "Classification Report:\n",
      "              precision    recall  f1-score   support\n",
      "\n",
      "           0       0.93      0.93      0.93        43\n",
      "           1       0.96      0.96      0.96        71\n",
      "\n",
      "    accuracy                           0.95       114\n",
      "   macro avg       0.94      0.94      0.94       114\n",
      "weighted avg       0.95      0.95      0.95       114\n",
      "\n",
      "Confusion Matrix:\n",
      "[[40  3]\n",
      " [ 3 68]]\n"
     ]
    }
   ],
   "source": [
    "from sklearn.tree import DecisionTreeClassifier\n",
    "from sklearn.metrics import accuracy_score, classification_report, confusion_matrix\n",
    "\n",
    "# 모델 생성 및 학습\n",
    "model = DecisionTreeClassifier(random_state=42) #의사결정나무 분류 모델 생성 및 시드 42 지정\n",
    "model.fit(X_train, y_train)\n",
    "\n",
    "# 예측\n",
    "y_pred = model.predict(X_test)\n",
    "\n",
    "# 평가\n",
    "print(f\"Accuracy: {accuracy_score(y_test, y_pred)}\")\n",
    "print(f\"Classification Report:\\n{classification_report(y_test, y_pred)}\")\n",
    "print(f\"Confusion Matrix:\\n{confusion_matrix(y_test, y_pred)}\")"
   ]
  },
  {
   "cell_type": "code",
   "execution_count": null,
   "id": "25475190-e7e7-44f2-b43d-b31211b74ca7",
   "metadata": {},
   "outputs": [],
   "source": []
  }
 ],
 "metadata": {
  "kernelspec": {
   "display_name": "Python 3 (ipykernel)",
   "language": "python",
   "name": "python3"
  },
  "language_info": {
   "codemirror_mode": {
    "name": "ipython",
    "version": 3
   },
   "file_extension": ".py",
   "mimetype": "text/x-python",
   "name": "python",
   "nbconvert_exporter": "python",
   "pygments_lexer": "ipython3",
   "version": "3.12.4"
  }
 },
 "nbformat": 4,
 "nbformat_minor": 5
}
