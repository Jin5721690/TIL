{
 "cells": [
  {
   "cell_type": "code",
   "execution_count": null,
   "id": "9f787d23-0fde-47ae-8883-5a1b3dc73272",
   "metadata": {},
   "outputs": [],
   "source": [
    "#LDA란?\n",
    "# Linear Discriminant Analysis (선형 판별 분석)\n",
    "# 차원 축소와 분류를 동시에 수행한다.\n",
    "#  데이터의 클래스 간 분산을 최대화하고, 클래스 내 분산을 최소화하는 방향으로 데이터를 변환\n",
    "# 데이터의 분류 성능을 향상시키고, 저차원 공간에서 데이터의 구조를 시각화할 수 있다.\n",
    "\n",
    "#LDA의 작동원리\n",
    "# 클래스별 평균 계산: 각 클래스의 평균 벡터를 계산한다.\n",
    "# 각 클래스 내 데이터 포인트의 분산을 계산해 클래스 내 분산 행렬을 만든다.\n",
    "# 클래스 간 평균 벡터의 분산을 계산하여 클래스 간 분산 행렬을 만든다.\n",
    "# 클래스 내 분산 행렬의 역행렬과 클래스 간 분산 행렬의 곱의 고유값과 고유벡터를 계산한다.\n",
    "# 선형 판별 축 선택: 고유값이 큰 순서대로 고유벡터를 정렬하여 선형 판별 축을 선택한다."
   ]
  }
 ],
 "metadata": {
  "kernelspec": {
   "display_name": "Python 3 (ipykernel)",
   "language": "python",
   "name": "python3"
  },
  "language_info": {
   "codemirror_mode": {
    "name": "ipython",
    "version": 3
   },
   "file_extension": ".py",
   "mimetype": "text/x-python",
   "name": "python",
   "nbconvert_exporter": "python",
   "pygments_lexer": "ipython3",
   "version": "3.12.4"
  }
 },
 "nbformat": 4,
 "nbformat_minor": 5
}
