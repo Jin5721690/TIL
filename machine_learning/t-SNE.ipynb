{
 "cells": [
  {
   "cell_type": "code",
   "execution_count": 1,
   "id": "2ad57ba5-1dc8-4331-97b8-4b05d13082b9",
   "metadata": {},
   "outputs": [],
   "source": [
    "#t-SNE란?\n",
    "# t-Distributed Stochastic Neighbor Embedding\n",
    "# 고차원 데이터를 저차원으로 변환하여 시각화하는 차원 축소 기법\n",
    "# 데이터 포인트 간의 유사성을 보존하면서, 고차원 데이터를 2차원 또는 3차원 공간으로 변환\n",
    "# 데이터의 구조와 패턴을 시각적으로 이해하기 편하다는 장점이 있다.\n",
    "\n",
    "#t-SNE의 작동 원리\n",
    "# 1. 고차원 데이터 포인트 간의 유사성을 확률 분포로 계산한다.\n",
    "# 2. 저차원 데이터 포인트 간의 유사성을 t-분포를 사용하여 계산한다.\n",
    "# 3. 고차원 공간과 저차원 공간 간의 유사성 분포 차이를 KL 발산(Kullback-Leibler divergence)을 통해 최소화한다.\n",
    "# 4. 저차원 공간에서의 데이터 포인트 위치를 반복적으로 조정하여 최적의 시각화를 얻어간다.\n",
    "# 즉, 고차원 데이터 간의 유사성을 저차원 데이터 간의 유사성과 비슷하게 하는 것이 바로 t-SNE이다.\n",
    "\n",
    "#t-SNE의 장점\n",
    "# 비선형 구조를 효과적으로 탐지할 수 있다.\n",
    "# 데이터의 클러스터를 명확하게 시각화 가능하다.\n",
    "# 고차원 데이터 또한 2차원이나 3차원으로 변환하여 시각화 가능하다.\n",
    "\n",
    "#t-SNE의 단점\n",
    "# 어렵고 배우기 쉽지 않다.\n",
    "# 작동시키는데 시간이 오래걸린다."
   ]
  },
  {
   "cell_type": "code",
   "execution_count": 2,
   "id": "f174c30f-406b-4f4c-b86d-a9f5a3cf1aa7",
   "metadata": {},
   "outputs": [
    {
     "name": "stdout",
     "output_type": "stream",
     "text": [
      "   pixel1  pixel2  pixel3  pixel4  pixel5  pixel6  pixel7  pixel8  pixel9  \\\n",
      "0       0       0       0       0       0       0       0       0       0   \n",
      "1       0       0       0       0       0       0       0       0       0   \n",
      "2       0       0       0       0       0       0       0       0       0   \n",
      "3       0       0       0       0       0       0       0       0       0   \n",
      "4       0       0       0       0       0       0       0       0       0   \n",
      "\n",
      "   pixel10  ...  pixel775  pixel776  pixel777  pixel778  pixel779  pixel780  \\\n",
      "0        0  ...         0         0         0         0         0         0   \n",
      "1        0  ...         0         0         0         0         0         0   \n",
      "2        0  ...         0         0         0         0         0         0   \n",
      "3        0  ...         0         0         0         0         0         0   \n",
      "4        0  ...         0         0         0         0         0         0   \n",
      "\n",
      "   pixel781  pixel782  pixel783  pixel784  \n",
      "0         0         0         0         0  \n",
      "1         0         0         0         0  \n",
      "2         0         0         0         0  \n",
      "3         0         0         0         0  \n",
      "4         0         0         0         0  \n",
      "\n",
      "[5 rows x 784 columns]\n",
      "0    5\n",
      "1    0\n",
      "2    4\n",
      "3    1\n",
      "4    9\n",
      "Name: class, dtype: category\n",
      "Categories (10, object): ['0', '1', '2', '3', ..., '6', '7', '8', '9']\n"
     ]
    }
   ],
   "source": [
    "from sklearn.datasets import fetch_openml\n",
    "import pandas as pd\n",
    "\n",
    "# MNIST 데이터셋 불러오기\n",
    "mnist = fetch_openml('mnist_784', version=1)\n",
    "\n",
    "# 데이터와 레이블 분리\n",
    "X = mnist.data\n",
    "y = mnist.target\n",
    "\n",
    "# 데이터 프레임의 첫 5행 출력\n",
    "print(X.head())\n",
    "print(y.head())\n"
   ]
  },
  {
   "cell_type": "code",
   "execution_count": 3,
   "id": "e8fec976-a361-48e5-a1df-6ab33894f658",
   "metadata": {},
   "outputs": [],
   "source": [
    "from sklearn.preprocessing import StandardScaler\n",
    "\n",
    "# 데이터 표준화\n",
    "scaler = StandardScaler()\n",
    "X_scaled = scaler.fit_transform(X)"
   ]
  },
  {
   "cell_type": "code",
   "execution_count": 4,
   "id": "608afa16-635a-4cd0-9bfe-bf8b9715fe52",
   "metadata": {},
   "outputs": [
    {
     "name": "stdout",
     "output_type": "stream",
     "text": [
      "(70000, 2)\n"
     ]
    }
   ],
   "source": [
    "from sklearn.manifold import TSNE\n",
    "import matplotlib.pyplot as plt\n",
    "import seaborn as sns\n",
    "\n",
    "# t-SNE 모델 생성\n",
    "tsne = TSNE(n_components=2, random_state=42)\n",
    "\n",
    "# t-SNE 학습 및 변환\n",
    "X_tsne = tsne.fit_transform(X_scaled)\n",
    "\n",
    "# 변환된 데이터의 크기 확인\n",
    "print(X_tsne.shape)"
   ]
  },
  {
   "cell_type": "code",
   "execution_count": null,
   "id": "50870f93-2441-44e1-9869-a4b54d0d2194",
   "metadata": {},
   "outputs": [],
   "source": [
    "# 2차원 시각화\n",
    "plt.figure(figsize=(10, 7))\n",
    "sns.scatterplot(x=X_tsne[:, 0], y=X_tsne[:, 1], hue=y, palette='viridis', legend=None)\n",
    "plt.title('t-SNE of MNIST Dataset (2D)')\n",
    "plt.xlabel('t-SNE Component 1')\n",
    "plt.ylabel('t-SNE Component 2')\n",
    "plt.show()"
   ]
  },
  {
   "cell_type": "code",
   "execution_count": null,
   "id": "7bfc1e83-ea63-444e-ae10-52c504d53705",
   "metadata": {},
   "outputs": [],
   "source": []
  }
 ],
 "metadata": {
  "kernelspec": {
   "display_name": "Python 3 (ipykernel)",
   "language": "python",
   "name": "python3"
  },
  "language_info": {
   "codemirror_mode": {
    "name": "ipython",
    "version": 3
   },
   "file_extension": ".py",
   "mimetype": "text/x-python",
   "name": "python",
   "nbconvert_exporter": "python",
   "pygments_lexer": "ipython3",
   "version": "3.12.4"
  }
 },
 "nbformat": 4,
 "nbformat_minor": 5
}
