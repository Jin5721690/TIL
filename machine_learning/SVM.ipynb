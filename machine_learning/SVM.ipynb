{
 "cells": [
  {
   "cell_type": "code",
   "execution_count": 2,
   "id": "7c1eba0b-c33a-4a48-86c9-9b306105d3a4",
   "metadata": {},
   "outputs": [],
   "source": [
    "#SVM이란? (Support Vector Machine)\n",
    "# 회귀 분석에 사용되는 강력한 모델\n",
    "# 결정 경계(초평면, hyperplane)를 찾아 분류\n",
    "# 초평면은 두 클래스 사이에 최대 마진을보장하는 방식으로 선택한다.\n",
    "\n",
    "# 마진(margin): 두 클래스 간의 가까운 데이터 포인트 사이와 거리\n",
    "# 서포트 백터: 초청면에 가장 가까이 위치한 데이터 포인트로서, 초평면을 정의하는 점\n",
    "# 커널 함수: 데이터를 더 높은 차원으로 매핑하여 선형적으로 분리할 수 없는 데이터를 분리하게 한다.\n",
    "\n",
    "#SVM의 목적: 마진을 최대화 하며 결정 초평면을 찾아 데이터 포인트를 정확히 분류하는 것. 일반화 성능을 높이는데 도움을 준다."
   ]
  },
  {
   "cell_type": "code",
   "execution_count": 4,
   "id": "d7291f84-a2b9-48c2-aefa-6977c30e359e",
   "metadata": {},
   "outputs": [],
   "source": [
    "#logic_regression과 앞은 동일\n",
    "\n",
    "import numpy as np\n",
    "import pandas as pd\n",
    "from sklearn.datasets import load_breast_cancer\n",
    "from sklearn.model_selection import train_test_split\n",
    "from sklearn.preprocessing import StandardScaler\n",
    "\n",
    "# 데이터 로드\n",
    "data = load_breast_cancer()\n",
    "X = data.data\n",
    "y = data.target\n",
    "\n",
    "# 데이터 분할\n",
    "X_train, X_test, y_train, y_test = train_test_split(X, y, test_size=0.2, random_state=42)\n",
    "\n",
    "# 데이터 스케일링\n",
    "scaler = StandardScaler()\n",
    "X_train = scaler.fit_transform(X_train)\n",
    "X_test = scaler.transform(X_test)"
   ]
  },
  {
   "cell_type": "code",
   "execution_count": 6,
   "id": "9484eb5c-2bf1-4463-8a4f-f4fac2f2c3de",
   "metadata": {},
   "outputs": [
    {
     "name": "stdout",
     "output_type": "stream",
     "text": [
      "Accuracy: 0.956140350877193\n",
      "Classification Report:\n",
      "              precision    recall  f1-score   support\n",
      "\n",
      "           0       0.93      0.95      0.94        43\n",
      "           1       0.97      0.96      0.96        71\n",
      "\n",
      "    accuracy                           0.96       114\n",
      "   macro avg       0.95      0.96      0.95       114\n",
      "weighted avg       0.96      0.96      0.96       114\n",
      "\n",
      "Confusion Matrix:\n",
      "[[41  2]\n",
      " [ 3 68]]\n"
     ]
    }
   ],
   "source": [
    "from sklearn.svm import SVC #서포트 벡터 머신 분류 모델 생성\n",
    "from sklearn.metrics import accuracy_score, classification_report, confusion_matrix\n",
    "\n",
    "# 모델 생성 및 학습\n",
    "model = SVC(kernel='linear')   #서포트 백터 머신 분류 모델 생성\n",
    "model.fit(X_train, y_train)\n",
    "\n",
    "# 예측\n",
    "y_pred = model.predict(X_test)\n",
    "\n",
    "# 평가\n",
    "print(f\"Accuracy: {accuracy_score(y_test, y_pred)}\")\n",
    "print(f\"Classification Report:\\n{classification_report(y_test, y_pred)}\")\n",
    "print(f\"Confusion Matrix:\\n{confusion_matrix(y_test, y_pred)}\")"
   ]
  },
  {
   "cell_type": "code",
   "execution_count": null,
   "id": "1a044797-9372-4984-8034-53874df7bfeb",
   "metadata": {},
   "outputs": [],
   "source": []
  }
 ],
 "metadata": {
  "kernelspec": {
   "display_name": "Python 3 (ipykernel)",
   "language": "python",
   "name": "python3"
  },
  "language_info": {
   "codemirror_mode": {
    "name": "ipython",
    "version": 3
   },
   "file_extension": ".py",
   "mimetype": "text/x-python",
   "name": "python",
   "nbconvert_exporter": "python",
   "pygments_lexer": "ipython3",
   "version": "3.12.4"
  }
 },
 "nbformat": 4,
 "nbformat_minor": 5
}
