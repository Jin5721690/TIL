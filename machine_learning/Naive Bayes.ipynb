{
 "cells": [
  {
   "cell_type": "code",
   "execution_count": 1,
   "id": "473fd12a-62f5-442f-ac1a-e3b4f669c389",
   "metadata": {},
   "outputs": [],
   "source": [
    "#나이브 베이즈(Naive Bayes) 란?\n",
    "# 나이브베이스 분류기는 베이즈 정리를 기반으로 하는 통계적 분류기법\n",
    "# 나이브라는 이름이 붙은 이유는 각 특징이 독립적이라고 가정하기 때문\n",
    "# 주로 텍스트 분류를 할때 널리 사용된다.\n",
    "# 베이즈정리 함수가 사용된다.\n",
    "\n",
    "#나이브 베이즈의 종류\n",
    "# 가우시안 나이브베이즈: 특징들이 연속적이고 정규분포를 따른다고 가정한다.\n",
    "# 베르누이 나이브베이즈: 특징들이 이진수(0 또는 1)로 표현되는 경우 사용한다.\n",
    "# 멀티노미얼 나이브베이즈: 특징들이 다항분포를 따르는 경우 사용한다.\n",
    "\n",
    "#나이브 베이즈의 목적\n",
    "# 나이브 베이즈의 목표는 주어진 데이터 포인트가 특정 클래스에 속할 확률을 계산하여 분류하는 것이다.\n",
    "# 이 모델은 단순하고 계산이 효율적이며, 텍스트 분류와 같은 문제에서 좋은 성능을 발휘한다.\n"
   ]
  },
  {
   "cell_type": "code",
   "execution_count": 2,
   "id": "cb4d8e40-97b6-405b-96d6-aed35e48d382",
   "metadata": {},
   "outputs": [],
   "source": [
    "import numpy as np\n",
    "import pandas as pd\n",
    "from sklearn.datasets import load_breast_cancer\n",
    "from sklearn.model_selection import train_test_split\n",
    "from sklearn.preprocessing import StandardScaler\n",
    "\n",
    "# 데이터 로드\n",
    "data = load_breast_cancer()\n",
    "X = data.data\n",
    "y = data.target\n",
    "\n",
    "# 데이터 분할\n",
    "X_train, X_test, y_train, y_test = train_test_split(X, y, test_size=0.2, random_state=42)\n",
    "\n",
    "# 데이터 스케일링\n",
    "scaler = StandardScaler()\n",
    "X_train = scaler.fit_transform(X_train)\n",
    "X_test = scaler.transform(X_test)"
   ]
  },
  {
   "cell_type": "code",
   "execution_count": null,
   "id": "c19b0237-724a-4653-bf54-f06e287c56cb",
   "metadata": {},
   "outputs": [],
   "source": [
    "from sklearn.naive_bayes import GaussianNB\n",
    "from sklearn.metrics import accuracy_score, classification_report, confusion_matrix\n",
    "\n",
    "# 모델 생성 및 학습\n",
    "model = GaussianNB()   #가우시안 나이브베이즈 분류 모델을 생성\n",
    "model.fit(X_train, y_train)\n",
    "\n",
    "# 예측\n",
    "y_pred = model.predict(X_test)\n",
    "\n",
    "# 평가\n",
    "print(f\"Accuracy: {accuracy_score(y_test, y_pred)}\")\n",
    "print(f\"Classification Report:\\n{classification_report(y_test, y_pred)}\")\n",
    "print(f\"Confusion Matrix:\\n{confusion_matrix(y_test, y_pred)}\")"
   ]
  }
 ],
 "metadata": {
  "kernelspec": {
   "display_name": "Python 3 (ipykernel)",
   "language": "python",
   "name": "python3"
  },
  "language_info": {
   "codemirror_mode": {
    "name": "ipython",
    "version": 3
   },
   "file_extension": ".py",
   "mimetype": "text/x-python",
   "name": "python",
   "nbconvert_exporter": "python",
   "pygments_lexer": "ipython3",
   "version": "3.12.4"
  }
 },
 "nbformat": 4,
 "nbformat_minor": 5
}
