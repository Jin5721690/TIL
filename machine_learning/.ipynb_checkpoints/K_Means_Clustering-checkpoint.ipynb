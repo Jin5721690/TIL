{
 "cells": [
  {
   "cell_type": "code",
   "execution_count": null,
   "id": "be2b5cd6-f3d4-4996-8639-2f27d4d70f62",
   "metadata": {},
   "outputs": [],
   "source": [
    "# 비지도 학습 모델: 정답이 정해져있지 않은 데이터를 스스로 classification을 만들어서 학습하는 모델\n",
    "\n",
    "#k-means clustering 이란?\n",
    "# 머신 러닝보단 알고리즘에 가깝다.\n",
    "# 순차적으로 알고리즘을 반복하며 어떻게 데이터를 묶을지 판별한다.\n",
    "\n",
    "#k-clustering 알고리즘의 단계\n",
    "# 초기화: k개의 군집 중심을 랜덤하게 설정한다.\n",
    "# 할당 단계: 각 데이터 포인트를 가장 가까운 군집 중심에 할당한다.\n",
    "# 업데이트 단계: 각 데이터 포인트를 가장 가까운 군집 중심에 할당한다.\n",
    "# 반복: 할당 단계와 업데이트 단계를 군집 중심이 더 이상 변화하지 않을 때까지 반복한다.\n",
    "# 군집 중심 거리 계산은 Euclidean Distance를 사용하여 계산한다.\n",
    "\n",
    "#엘보우 방법\n",
    "# 최적의 k(군집 중심 개수)를 선택하는데 사용된다.\n",
    "# k를 증가시키며 k에 대한 군집의 응집도를 계산하고, 이를 그래프로 나타내어 그래프에서 응집도가 급격히 감소하는 지점을 찾는 것\n",
    "\n"
   ]
  }
 ],
 "metadata": {
  "kernelspec": {
   "display_name": "Python 3 (ipykernel)",
   "language": "python",
   "name": "python3"
  },
  "language_info": {
   "codemirror_mode": {
    "name": "ipython",
    "version": 3
   },
   "file_extension": ".py",
   "mimetype": "text/x-python",
   "name": "python",
   "nbconvert_exporter": "python",
   "pygments_lexer": "ipython3",
   "version": "3.12.4"
  }
 },
 "nbformat": 4,
 "nbformat_minor": 5
}
