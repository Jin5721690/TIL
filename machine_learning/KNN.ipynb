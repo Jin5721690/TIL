{
 "cells": [
  {
   "cell_type": "code",
   "execution_count": 1,
   "id": "51123839-b6e3-4d33-87ad-5bc01a60eef6",
   "metadata": {},
   "outputs": [],
   "source": [
    "#KNN이란? (K-Nearest-Neighbors)\n",
    "# 머신러닝 모델보단 알고리즘으로 분류된다.\n",
    "# 회귀 분석에 사용되는 비모수적인 방법이다.\n",
    "# 새로운 데이터 포인트를 기존 데이터 포인트 중 K개의 이우소가 비교하여 분류한다.\n",
    "# 즉, 거리 계산을 통해 가장 가까운 이웃을 찾는다.\n",
    "# 거리 측정은 KNN알고리즘에서 가장 중요한 요소다.\n",
    "# 해당 값을 찾기 위해 일반적으로 Euclidean Distance가 사용된다.\n"
   ]
  },
  {
   "cell_type": "code",
   "execution_count": 2,
   "id": "115ed794-fbcb-4c9b-b6ea-27ea06793257",
   "metadata": {},
   "outputs": [],
   "source": [
    "#다른 머신 러닝 모델들과 동일\n",
    "\n",
    "import numpy as np\n",
    "import pandas as pd\n",
    "from sklearn.datasets import load_breast_cancer\n",
    "from sklearn.model_selection import train_test_split\n",
    "from sklearn.preprocessing import StandardScaler\n",
    "\n",
    "# 데이터 로드\n",
    "data = load_breast_cancer()\n",
    "X = data.data\n",
    "y = data.target\n",
    "\n",
    "# 데이터 분할\n",
    "X_train, X_test, y_train, y_test = train_test_split(X, y, test_size=0.2, random_state=42)\n",
    "\n",
    "# 데이터 스케일링\n",
    "scaler = StandardScaler()\n",
    "X_train = scaler.fit_transform(X_train)\n",
    "X_test = scaler.transform(X_test)"
   ]
  },
  {
   "cell_type": "code",
   "execution_count": 3,
   "id": "e3e06e90-a3e9-4670-b8b1-154343f6c009",
   "metadata": {},
   "outputs": [
    {
     "name": "stdout",
     "output_type": "stream",
     "text": [
      "Accuracy: 0.9473684210526315\n",
      "Classification Report:\n",
      "              precision    recall  f1-score   support\n",
      "\n",
      "           0       0.93      0.93      0.93        43\n",
      "           1       0.96      0.96      0.96        71\n",
      "\n",
      "    accuracy                           0.95       114\n",
      "   macro avg       0.94      0.94      0.94       114\n",
      "weighted avg       0.95      0.95      0.95       114\n",
      "\n",
      "Confusion Matrix:\n",
      "[[40  3]\n",
      " [ 3 68]]\n"
     ]
    }
   ],
   "source": [
    "from sklearn.neighbors import KNeighborsClassifier\n",
    "from sklearn.metrics import accuracy_score, classification_report, confusion_matrix\n",
    "\n",
    "# 모델 생성 및 학습\n",
    "model = KNeighborsClassifier(n_neighbors=5) #KNN 모델 생성 및 사용할 이웃의 수 설정\n",
    "model.fit(X_train, y_train)\n",
    "\n",
    "# 예측\n",
    "y_pred = model.predict(X_test)\n",
    "\n",
    "# 평가\n",
    "print(f\"Accuracy: {accuracy_score(y_test, y_pred)}\")\n",
    "print(f\"Classification Report:\\n{classification_report(y_test, y_pred)}\")\n",
    "print(f\"Confusion Matrix:\\n{confusion_matrix(y_test, y_pred)}\")"
   ]
  },
  {
   "cell_type": "code",
   "execution_count": 4,
   "id": "37af73b3-8006-408a-b8ba-69958de1ab9b",
   "metadata": {},
   "outputs": [],
   "source": [
    "import seaborn as sns\n",
    "\n",
    "# 데이터 로드\n",
    "titanic = sns.load_dataset('titanic')\n",
    "\n",
    "# 필요한 열 선택 및 결측값 처리\n",
    "titanic = titanic[['survived', 'pclass', 'sex', 'age', 'sibsp', 'parch', 'fare', 'embarked']].dropna()\n",
    "\n",
    "# 성별과 탑승한 곳 인코딩\n",
    "titanic['sex'] = titanic['sex'].map({'male': 0, 'female': 1})\n",
    "titanic['embarked'] = titanic['embarked'].map({'C': 0, 'Q': 1, 'S': 2})\n",
    "\n",
    "# 특성과 타겟 분리\n",
    "X = titanic.drop('survived', axis=1)\n",
    "y = titanic['survived']\n",
    "\n",
    "# 데이터 분할\n",
    "X_train, X_test, y_train, y_test = train_test_split(X, y, test_size=0.2, random_state=42)\n",
    "\n",
    "# 데이터 스케일링\n",
    "scaler = StandardScaler()\n",
    "X_train = scaler.fit_transform(X_train)\n",
    "X_test = scaler.transform(X_test)"
   ]
  },
  {
   "cell_type": "code",
   "execution_count": 5,
   "id": "021ab073-26a3-4c41-ad27-8d451bf94a02",
   "metadata": {},
   "outputs": [
    {
     "name": "stdout",
     "output_type": "stream",
     "text": [
      "Accuracy: 0.7832167832167832\n",
      "Classification Report:\n",
      "              precision    recall  f1-score   support\n",
      "\n",
      "           0       0.76      0.89      0.82        80\n",
      "           1       0.82      0.65      0.73        63\n",
      "\n",
      "    accuracy                           0.78       143\n",
      "   macro avg       0.79      0.77      0.77       143\n",
      "weighted avg       0.79      0.78      0.78       143\n",
      "\n",
      "Confusion Matrix:\n",
      "[[71  9]\n",
      " [22 41]]\n"
     ]
    }
   ],
   "source": [
    "# 모델 생성 및 학습\n",
    "model = KNeighborsClassifier(n_neighbors=5)\n",
    "model.fit(X_train, y_train)\n",
    "\n",
    "# 예측\n",
    "y_pred = model.predict(X_test)\n",
    "\n",
    "# 평가\n",
    "print(f\"Accuracy: {accuracy_score(y_test, y_pred)}\")\n",
    "print(f\"Classification Report:\\n{classification_report(y_test, y_pred)}\")\n",
    "print(f\"Confusion Matrix:\\n{confusion_matrix(y_test, y_pred)}\")"
   ]
  },
  {
   "cell_type": "code",
   "execution_count": null,
   "id": "a08cb148-ea9b-463f-a3bc-58e743fb255a",
   "metadata": {},
   "outputs": [],
   "source": []
  }
 ],
 "metadata": {
  "kernelspec": {
   "display_name": "Python 3 (ipykernel)",
   "language": "python",
   "name": "python3"
  },
  "language_info": {
   "codemirror_mode": {
    "name": "ipython",
    "version": 3
   },
   "file_extension": ".py",
   "mimetype": "text/x-python",
   "name": "python",
   "nbconvert_exporter": "python",
   "pygments_lexer": "ipython3",
   "version": "3.12.4"
  }
 },
 "nbformat": 4,
 "nbformat_minor": 5
}
